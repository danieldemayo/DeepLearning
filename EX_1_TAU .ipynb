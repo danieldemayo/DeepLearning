{
 "cells": [
  {
   "cell_type": "markdown",
   "metadata": {},
   "source": [
    "# Classification and Regression with a Neural Network in Pytorch"
   ]
  },
  {
   "cell_type": "markdown",
   "metadata": {},
   "source": [
    "Welcome to your first programming assignment! \n",
    "In this assignment you will build your first classification and regression neural networks.\n",
    "This assignment is a 'step-through' guide to implement a simple fully-connected neural network in Pytorch.\n",
    "\n",
    "* In the first part of this exercise, you will implement a neural network with a 2 dimensional input. Your dataset is based on a two circles-shaped groups for classification.\n",
    "\n",
    "* Then, in the second part of this exercise, you will implement a regression model for predicting the output of a two dimensional function."
   ]
  },
  {
   "cell_type": "markdown",
   "metadata": {},
   "source": [
    "# Packages\n",
    "Let's first import all the packages that you will need during this part of assignment.\n",
    "\n",
    "Feel free to use another libraries if you want to."
   ]
  },
  {
   "cell_type": "code",
   "execution_count": null,
   "metadata": {},
   "outputs": [],
   "source": [
    "import numpy as np\n",
    "from sklearn.datasets import make_moons, make_circles\n",
    "from sklearn.model_selection import train_test_split\n",
    "from sklearn.metrics import roc_curve, roc_auc_score, auc\n",
    "import sklearn.metrics as metrics\n",
    "from mpl_toolkits.mplot3d import Axes3D\n",
    "import matplotlib.pyplot as plt\n",
    "import torch\n",
    "from torch import nn,manual_seed, no_grad\n",
    "from torch.optim import SGD\n",
    "\n",
    "# from torch import nn, from_numpy, Tensor, manual_seed, no_grad"
   ]
  },
  {
   "cell_type": "markdown",
   "metadata": {},
   "source": [
    "# Dataset"
   ]
  },
  {
   "cell_type": "code",
   "execution_count": null,
   "metadata": {},
   "outputs": [],
   "source": [
    "random_num = 0\n",
    "np.random.seed(random_num)\n",
    "torch.manual_seed(random_num)\n",
    "x, y = make_circles(500, noise=0.075)\n",
    "x_train, x_test, y_train, y_test = train_test_split(x, y, test_size=0.3)"
   ]
  },
  {
   "cell_type": "markdown",
   "metadata": {},
   "source": [
    "**Visualize the dataset using matplotlib:**"
   ]
  },
  {
   "cell_type": "code",
   "execution_count": null,
   "metadata": {},
   "outputs": [],
   "source": [
    "plt.scatter(x[:, 0], x[:, 1], c=y, s=6)\n"
   ]
  },
  {
   "cell_type": "markdown",
   "metadata": {},
   "source": [
    "# Simple Logistic Regression"
   ]
  },
  {
   "cell_type": "markdown",
   "metadata": {},
   "source": [
    "1. Implement a 2-class classification neural network with a zero hidden layer.\n",
    "2. Plot loss vs epoch.\n",
    "3. Plot AUC vs epoch for train and test sets.\n",
    "4. Plot ROC curve and calculate AUC for the test set.\n",
    "5. Plot the learned decision boundary.\n",
    "6. Briefly interpret graph's results."
   ]
  },
  {
   "cell_type": "markdown",
   "metadata": {},
   "source": [
    "How you will do it:\n",
    "\n",
    "* Prepare the Data.\n",
    "* Define the Model.\n",
    "* Train the Model.\n",
    "* Evaluate the Model.\n",
    "* Visualization."
   ]
  },
  {
   "cell_type": "markdown",
   "metadata": {},
   "source": [
    "**Define the Model:**"
   ]
  },
  {
   "cell_type": "code",
   "execution_count": null,
   "outputs": [],
   "source": [
    "class LogisticRegression(nn.Module):\n",
    "    def __init__(self, num_inputs, ):\n",
    "        super(LogisticRegression, self).__init__()\n",
    "        self.lin1 = nn.Linear(num_inputs, 1)\n",
    "\n",
    "    def forward(self, x):\n",
    "        return torch.sigmoid(self.lin1(x))"
   ],
   "metadata": {
    "collapsed": false,
    "pycharm": {
     "name": "#%%\n"
    }
   }
  },
  {
   "cell_type": "markdown",
   "metadata": {},
   "source": [
    "**Training and validation:**"
   ]
  },
  {
   "cell_type": "code",
   "execution_count": null,
   "outputs": [],
   "source": [
    "def data_to_tensor(x_train, x_test, y_train, y_test):\n",
    "    x_train = torch.from_numpy(x_train.astype(np.float32))\n",
    "    x_test = torch.from_numpy(x_test.astype(np.float32))\n",
    "    y_train = torch.from_numpy(y_train.astype(np.float32))\n",
    "    y_test = torch.from_numpy(y_test.astype(np.float32))\n",
    "\n",
    "    y_train = y_train.view(y_train.shape[0], 1)\n",
    "    y_test = y_test.view(y_test.shape[0], 1)\n",
    "    return x_train, x_test, y_train, y_test"
   ],
   "metadata": {
    "collapsed": false,
    "pycharm": {
     "name": "#%%\n"
    }
   }
  },
  {
   "cell_type": "code",
   "execution_count": null,
   "outputs": [],
   "source": [
    "def train_model (model,optimizer,criterion,x_train, y_train):\n",
    "    model.train()\n",
    "    optimizer.zero_grad()\n",
    "    y_prediction = model(x_train)\n",
    "    loss = criterion(y_prediction, y_train)\n",
    "\n",
    "    loss.backward()\n",
    "    optimizer.step()\n",
    "\n",
    "    preds=y_prediction.detach().numpy()\n",
    "    fpr, tpr, threshold = metrics.roc_curve(y_train, preds)\n",
    "    roc_auc = metrics.auc(fpr, tpr)\n",
    "    return loss.item(), roc_auc, fpr, tpr"
   ],
   "metadata": {
    "collapsed": false,
    "pycharm": {
     "name": "#%%\n"
    }
   }
  },
  {
   "cell_type": "code",
   "execution_count": null,
   "outputs": [],
   "source": [
    "def test_model (model,criterion,x_test, y_test):\n",
    "    model.eval()\n",
    "    with torch.no_grad():\n",
    "        y_prediction = model(x_test)\n",
    "        loss = criterion(y_prediction, y_test)\n",
    "    preds = y_prediction.detach().numpy()\n",
    "    fpr, tpr, threshold = metrics.roc_curve(y_test, preds)\n",
    "    roc_auc = metrics.auc(fpr, tpr)\n",
    "    return loss.item(), roc_auc, fpr, tpr"
   ],
   "metadata": {
    "collapsed": false,
    "pycharm": {
     "name": "#%%\n"
    }
   }
  },
  {
   "cell_type": "code",
   "metadata": {
    "pycharm": {
     "name": "#%%\n"
    }
   },
   "source": [
    "NUM_INPUTS = 2\n",
    "LR = 0.01\n",
    "MOMENTUM = 0.9\n",
    "NUMBER_OF_EPOCHS = 1000\n",
    "\n",
    "x_train, x_test, y_train, y_test = train_test_split(x, y, test_size=0.3)\n",
    "\n",
    "model = LogisticRegression(num_inputs=NUM_INPUTS)\n",
    "optimizer = SGD(model.parameters(), lr=LR, momentum=MOMENTUM)\n",
    "criterion = nn.BCELoss()\n",
    "number_of_epochs = NUMBER_OF_EPOCHS\n",
    "x_train, x_test, y_train, y_test = data_to_tensor(x_train, x_test, y_train, y_test)\n",
    "\n",
    "train_losses = []\n",
    "train_rocs = []\n",
    "test_losses = []\n",
    "test_rocs = []\n",
    "\n",
    "for epoch in range(number_of_epochs):\n",
    "    train_loss, train_roc_auc, fpr, tpr = train_model(model,optimizer,criterion,x_train, y_train)\n",
    "    train_losses.append(train_loss)\n",
    "    train_rocs.append(train_roc_auc)\n",
    "\n",
    "    test_loss, test_roc_auc, fpr_test, tpr_test = test_model(model,criterion,x_test,y_test)\n",
    "    test_losses.append(test_loss)\n",
    "    test_rocs.append(test_roc_auc)\n",
    "\n",
    "    if (epoch + 1) % 100 == 0:\n",
    "        print('epoch:', epoch + 1, ',train_loss=', train_loss,'test_loss=',test_loss)\n",
    "\n",
    "\n",
    "\n"
   ],
   "execution_count": null,
   "outputs": []
  },
  {
   "cell_type": "code",
   "execution_count": null,
   "metadata": {},
   "outputs": [],
   "source": [
    "# y_prediction_test = model(x_test)\n",
    "# fpr, tpr, threshold = metrics.roc_curve(y_test.detach().numpy(), y_prediction_test.detach().numpy())\n",
    "# roc_auc = metrics.auc(fpr, tpr)"
   ]
  },
  {
   "cell_type": "markdown",
   "source": [
    "**Visualizing the plots**:"
   ],
   "metadata": {
    "collapsed": false,
    "pycharm": {
     "name": "#%% md\n"
    }
   }
  },
  {
   "cell_type": "code",
   "execution_count": null,
   "outputs": [],
   "source": [
    "epochs = list(range(NUMBER_OF_EPOCHS))\n",
    "plt.plot(epochs, train_losses,label='Train Losses')\n",
    "# plt.figure(figsize=(16,8))\n",
    "plt.title('Epochs Vs. Training Loss')\n",
    "plt.xlabel('Epochs')\n",
    "plt.ylabel('Training Loss')\n",
    "plt.legend()"
   ],
   "metadata": {
    "collapsed": false,
    "pycharm": {
     "name": "#%%\n"
    }
   }
  },
  {
   "cell_type": "code",
   "execution_count": null,
   "outputs": [],
   "source": [
    "plt.plot(epochs, train_rocs, label='Train Losses', color = 'blue')\n",
    "plt.plot(epochs, test_rocs, label='Test Losses', color = 'orange')\n",
    "plt.title('Epochs Vs. AUCs')\n",
    "plt.xlabel('Epochs')\n",
    "plt.ylabel('AUC')\n",
    "plt.legend()\n",
    "plt.show()"
   ],
   "metadata": {
    "collapsed": false,
    "pycharm": {
     "name": "#%%\n"
    }
   }
  },
  {
   "cell_type": "code",
   "execution_count": null,
   "outputs": [],
   "source": [
    "plt.plot(fpr_test, tpr_test, label='ROC curve (area = %0.2f)' % test_rocs[-1], color='blue')\n",
    "plt.plot([0, 1], [0, 1], color='orange', lw=2, linestyle='--')\n",
    "plt.title('ROC Curve')\n",
    "plt.xlabel('FPR')\n",
    "plt.ylabel('TPR')\n",
    "plt.legend()\n",
    "plt.show()\n",
    "# print(roc_auc)"
   ],
   "metadata": {
    "collapsed": false,
    "pycharm": {
     "name": "#%%\n"
    }
   }
  },
  {
   "cell_type": "code",
   "metadata": {
    "pycharm": {
     "name": "#%%\n"
    }
   },
   "source": [
    "train_auc = sum(train_rocs) / len(train_rocs)\n",
    "test_auc = sum(test_rocs) / len(test_rocs)\n",
    "print('train AUCs:',train_auc,'test AUCs:',test_auc)"
   ],
   "execution_count": null,
   "outputs": []
  },
  {
   "cell_type": "code",
   "metadata": {
    "pycharm": {
     "name": "#%%\n"
    }
   },
   "source": [
    "x_range = np.linspace(min(x[:, 0]), max(x[:, 0]))\n",
    "y_range = np.linspace(min(x[:, 1]), max(x[:, 1]))\n",
    "xx, yy = np.meshgrid(x_range, y_range)\n",
    "grid = torch.Tensor(np.c_[xx.ravel(), yy.ravel()])\n",
    "pred_func = model.forward(grid)\n",
    "z = pred_func.view(xx.shape).detach().numpy()\n",
    "z[z >= 0.5] = 1\n",
    "z[z < 0.5] = 0\n",
    "plt.contourf(xx, yy, z, cmap='RdBu')\n",
    "\n",
    "plt.ylabel('x2')\n",
    "plt.xlabel('x1')\n",
    "plt.scatter(x[:, 0], x[:, 1], c=y, cmap='Paired', s=6)\n",
    "plt.show()"
   ],
   "execution_count": null,
   "outputs": []
  },
  {
   "cell_type": "markdown",
   "metadata": {},
   "source": [
    "7. Is the decision boundary linear or nonlinear in the case of a logistic regression? Explain.\n",
    "\n",
    "    The decision boundary is linear as we can see at the plot. M"
   ]
  },
  {
   "cell_type": "markdown",
   "metadata": {},
   "source": [
    "# Classification with Neural Networks"
   ]
  },
  {
   "cell_type": "markdown",
   "metadata": {
    "pycharm": {
     "name": "#%% md\n"
    }
   },
   "source": [
    "After you implemented \"classical\" logistic regression, now you will be implementing a neural network with one or more hidden layers.\n",
    "You will need to choose the number of hidden layers and nodes in a feedforward neural network, activation function, the type of optimizer and its hyperparmeters which will give you the best result. Remember, we don't want to overfit the training data, we want to generalize the solution for new data not seen during training.\n",
    "\n",
    "Plot the same graphs as in the previous sections and explain the similarities and differences."
   ]
  },
  {
   "cell_type": "markdown",
   "metadata": {},
   "source": [
    "**Define the Model:**"
   ]
  },
  {
   "cell_type": "code",
   "execution_count": null,
   "metadata": {},
   "outputs": [],
   "source": [
    "class DeepLogisticRegression(nn.Module):\n",
    "    def __init__(self, num_inputs, num_neurons):\n",
    "        super(DeepLogisticRegression, self).__init__()\n",
    "        self.lin1 = nn.Linear(num_inputs, num_neurons)\n",
    "        self.lin2 = nn.Linear(num_neurons, 1)\n",
    "        self.relu = nn.ReLU()\n",
    "        self.sig = nn.Sigmoid()\n",
    "\n",
    "    def forward(self, x):\n",
    "        x = self.relu(self.lin1(x))\n",
    "        x = self.sig(self.lin2(x))\n",
    "        return x\n"
   ]
  },
  {
   "cell_type": "markdown",
   "metadata": {},
   "source": [
    "**Training and validation:**"
   ]
  },
  {
   "cell_type": "code",
   "execution_count": null,
   "metadata": {},
   "outputs": [],
   "source": [
    "NUM_INPUTS = 2\n",
    "LR = 0.01\n",
    "MOMENTUM = 0.9\n",
    "NUMBER_OF_EPOCHS = 1000\n",
    "NUM_NEURONS = 50\n",
    "\n",
    "model = DeepLogisticRegression(num_inputs=NUM_INPUTS, num_neurons=NUM_NEURONS)\n",
    "optimizer = SGD(model.parameters(), lr=LR, momentum=MOMENTUM)\n",
    "criterion = nn.BCELoss()\n",
    "number_of_epochs = NUMBER_OF_EPOCHS\n",
    "# x_train, x_test, y_train, y_test = data_to_tensor(x_train, x_test, y_train, y_test)\n",
    "\n",
    "train_losses = []\n",
    "train_rocs = []\n",
    "test_losses = []\n",
    "test_rocs = []\n",
    "\n",
    "for epoch in range(number_of_epochs):\n",
    "    train_loss, train_roc_auc, fpr, tpr = train_model(model,optimizer,criterion,x_train, y_train)\n",
    "    train_losses.append(train_loss)\n",
    "    train_rocs.append(train_roc_auc)\n",
    "\n",
    "    test_loss, test_roc_auc, fpr_test, tpr_test = test_model(model,criterion,x_test,y_test)\n",
    "    test_losses.append(test_loss)\n",
    "    test_rocs.append(test_roc_auc)\n",
    "\n",
    "    if (epoch + 1) % 100 == 0:\n",
    "        print('epoch:', epoch + 1, ',train_loss=', train_loss,'test_loss=',test_loss)\n"
   ]
  },
  {
   "cell_type": "markdown",
   "source": [
    "**Visualizing the plots:**"
   ],
   "metadata": {
    "collapsed": false
   }
  },
  {
   "cell_type": "code",
   "execution_count": null,
   "outputs": [],
   "source": [
    "### START CODE HERE ###\n",
    "epochs = list(range(NUMBER_OF_EPOCHS))\n",
    "plt.plot(epochs, train_losses,label='Train Losses')\n",
    "# plt.figure(figsize=(16,8))\n",
    "plt.title('Epochs Vs. Training Loss')\n",
    "plt.xlabel('Epochs')\n",
    "plt.ylabel('Training Loss')\n",
    "plt.legend()"
   ],
   "metadata": {
    "collapsed": false,
    "pycharm": {
     "name": "#%%\n"
    }
   }
  },
  {
   "cell_type": "code",
   "execution_count": null,
   "outputs": [],
   "source": [
    "plt.plot(epochs, train_rocs, label='Train Losses', color = 'blue')\n",
    "plt.plot(epochs, test_rocs, label='Test Losses', color = 'orange')\n",
    "plt.title('Epochs Vs. AUCs')\n",
    "plt.xlabel('Epochs')\n",
    "plt.ylabel('AUC')\n",
    "plt.legend()\n",
    "plt.show()"
   ],
   "metadata": {
    "collapsed": false,
    "pycharm": {
     "name": "#%%\n"
    }
   }
  },
  {
   "cell_type": "code",
   "execution_count": null,
   "outputs": [],
   "source": [
    "plt.plot(fpr_test, tpr_test, label='ROC curve (area = %0.2f)' % test_rocs[-1], color='blue')\n",
    "plt.plot([0, 1], [0, 1], color='orange', lw=2, linestyle='--')\n",
    "plt.title('ROC Curve')\n",
    "plt.xlabel('FPR')\n",
    "plt.ylabel('TPR')\n",
    "plt.legend()\n",
    "plt.show()\n",
    "# print(roc_auc)"
   ],
   "metadata": {
    "collapsed": false,
    "pycharm": {
     "name": "#%%\n"
    }
   }
  },
  {
   "cell_type": "code",
   "execution_count": null,
   "outputs": [],
   "source": [
    "x_range = np.linspace(min(x[:, 0]), max(x[:, 0]))\n",
    "y_range = np.linspace(min(x[:, 1]), max(x[:, 1]))\n",
    "xx, yy = np.meshgrid(x_range, y_range)\n",
    "grid = torch.Tensor(np.c_[xx.ravel(), yy.ravel()])\n",
    "pred_func = model.forward(grid)\n",
    "z = pred_func.view(xx.shape).detach().numpy()\n",
    "z[z >= 0.5] = 1\n",
    "z[z < 0.5] = 0\n",
    "plt.contourf(xx, yy, z, cmap='RdBu')\n",
    "\n",
    "plt.ylabel('x2')\n",
    "plt.xlabel('x1')\n",
    "plt.scatter(x[:, 0], x[:, 1], c=y, cmap='Paired', s=6)\n",
    "plt.show()"
   ],
   "metadata": {
    "collapsed": false,
    "pycharm": {
     "name": "#%%\n"
    }
   }
  },
  {
   "cell_type": "markdown",
   "metadata": {},
   "source": [
    "8. Why does a neural network need a non-linear activation function? try to figure out what heppan when you remove the activation function and explain the results."
   ]
  },
  {
   "cell_type": "markdown",
   "metadata": {},
   "source": [
    "# Regression with Neural Networks"
   ]
  },
  {
   "cell_type": "markdown",
   "metadata": {},
   "source": [
    "In this part of the excercise you will need to implement a regression model using neural networks. The model should predict the output of a trigonometric function of two variables. Your data set is based on a meshgrid. Your task is to create a list of points that would correspond to a grid and use it for the input of your neural network. Then, build your neural networks and find the architecture which gives you the best results.\n",
    "1. Plot the surface from the overall data and compare it to your predicted test sets.\n",
    "2. Which loss function and validation metric did you choose?\n",
    "3. Plot the loss and validation metrics vs epoch for the training and test sets.\n",
    "4. Build a new neural network and try overfitting your training set. Show the overfitting by using learning curve plots. \n",
    "    **Note**: You can use plt.ylim() function to better focus on the changes in the trends."
   ]
  },
  {
   "cell_type": "markdown",
   "metadata": {},
   "source": [
    "# Packages "
   ]
  },
  {
   "cell_type": "markdown",
   "metadata": {},
   "source": [
    "First import all the packages that you will need during this part of assignment.\n",
    "\n",
    "Feel free to use another libraries if you want to."
   ]
  },
  {
   "cell_type": "code",
   "execution_count": 1,
   "metadata": {},
   "outputs": [],
   "source": [
    "from typing import Tuple, List, Dict\n",
    "import numpy as np\n",
    "from numpy.typing import NDArray\n",
    "from torch import nn, from_numpy, Tensor, manual_seed, no_grad\n",
    "import matplotlib.pyplot as plt\n",
    "from torch.optim import SGD, Optimizer\n",
    "from sklearn.model_selection import train_test_split"
   ]
  },
  {
   "cell_type": "markdown",
   "metadata": {},
   "source": [
    "**Generate data:**"
   ]
  },
  {
   "cell_type": "code",
   "execution_count": null,
   "metadata": {},
   "outputs": [],
   "source": [
    "np.random.seed(random_num)\n",
    "x = np.linspace(-5, 5, 30)\n",
    "y = np.linspace(-5, 5, 30)\n",
    "xx, yy = np.meshgrid(x, y)\n",
    "z = np.sin(xx) * np.cos(yy) + 0.1 * np.random.rand(xx.shape[0], xx.shape[1])\n",
    "\n"
   ]
  },
  {
   "cell_type": "markdown",
   "source": [
    "**Helper functions:**"
   ],
   "metadata": {
    "collapsed": false,
    "pycharm": {
     "name": "#%% md\n"
    }
   }
  },
  {
   "cell_type": "code",
   "execution_count": 2,
   "outputs": [],
   "source": [
    "def grid(scale_x: Tuple[int, int], scale_y: Tuple[int, int]) -> Tuple[NDArray, NDArray]:\n",
    "    x = np.linspace(*scale_x, 30)\n",
    "    y = np.linspace(*scale_y, 30)\n",
    "    xx, yy = np.meshgrid(x, y)\n",
    "    return xx, yy\n",
    "\n",
    "\n",
    "def trigo_function(x1, x2):\n",
    "    return np.sin(x1) * np.cos(x2) + 0.1 * np.random.rand(x1.shape[0], x1.shape[1])\n",
    "\n",
    "\n",
    "def generate_data() -> Tuple[Tuple, NDArray]:\n",
    "    plane = grid((-5, 5), (-5, 5))\n",
    "    fx = trigo_function(*plane)\n",
    "    return plane, fx\n",
    "\n",
    "\n",
    "data = generate_data()\n",
    "\n",
    "\n",
    "def vectorize_data(x: NDArray, y: NDArray, z: NDArray) -> Tuple[NDArray, NDArray]:\n",
    "    xx = x.reshape(-1, 1)\n",
    "    yy = y.reshape(-1, 1)\n",
    "    input_data = np.hstack((xx, yy))\n",
    "    return input_data, z.reshape(-1, 1)\n",
    "\n",
    "\n",
    "def convert_to_tensor(array: NDArray):\n",
    "    return from_numpy(array.astype(np.float32))\n",
    "\n",
    "\n",
    "def viz_data(x: NDArray, y: NDArray, z: NDArray, show: bool = True):\n",
    "    plt.figure()\n",
    "    ax = plt.axes(projection='3d')\n",
    "    ax.plot_surface(x, y, z, color='b', alpha=0.5)\n",
    "    ax.set_xlabel('x')\n",
    "    ax.set_ylabel('y')\n",
    "    ax.set_zlabel('z')\n",
    "    ax.view_init(60, 35)\n",
    "    if show:\n",
    "        plt.show()\n",
    "    return ax\n",
    "\n",
    "\n",
    "def viz_preds(data, preds):\n",
    "    x, fx = vectorize_data(*data[0], data[1])\n",
    "    x_train, x_test, y_train, y_test = train_test_split(x, fx, test_size=0.3, random_state=1)\n",
    "    ax = viz_data(*data[0], data[1], show=False)\n",
    "    ax.scatter(x_test[:, 0], x_test[:, 1], preds, color='r')\n",
    "    plt.show()\n",
    "\n"
   ],
   "metadata": {
    "collapsed": false,
    "pycharm": {
     "name": "#%%\n"
    }
   }
  },
  {
   "cell_type": "markdown",
   "metadata": {},
   "source": [
    "**Define the Model:**"
   ]
  },
  {
   "cell_type": "code",
   "execution_count": 3,
   "metadata": {},
   "outputs": [],
   "source": [
    "\n",
    "class RegressionModel(nn.Module):\n",
    "    def __init__(self, num_inputs: int, num_neurons: List):\n",
    "        super().__init__()\n",
    "        self.lin1 = nn.Linear(num_inputs, num_neurons[0])\n",
    "        self.lin2 = nn.Linear(num_neurons[0], num_neurons[1])\n",
    "        self.lin3 = nn.Linear(num_neurons[1], 1)\n",
    "\n",
    "        self.relu = nn.LeakyReLU()\n",
    "        self.tanh = nn.Tanh()\n",
    "\n",
    "    def forward(self, x: Tensor):\n",
    "        x = self.relu(self.lin1(x))\n",
    "        x = self.tanh(self.lin2(x))\n",
    "        x = self.tanh(self.lin3(x))\n",
    "        return x\n",
    "\n"
   ]
  },
  {
   "cell_type": "markdown",
   "metadata": {},
   "source": [
    "**Training and validation:**"
   ]
  },
  {
   "cell_type": "code",
   "execution_count": 4,
   "metadata": {},
   "outputs": [
    {
     "name": "stdout",
     "output_type": "stream",
     "text": [
      "epoch: 1000 ,train_loss = 0.0058814845979213715\n",
      "epoch: 1000 ,test_loss = 0.010444804094731808\n"
     ]
    }
   ],
   "source": [
    "\n",
    "def train_model(\n",
    "        model: nn.Module,\n",
    "        optimizer: Optimizer,\n",
    "        loss_fn: nn.MSELoss,\n",
    "        x_train: Tensor, y_train: Tensor\n",
    ") -> Tensor:\n",
    "    model.train()\n",
    "    optimizer.zero_grad()\n",
    "    y_pred = model(x_train)\n",
    "    loss = loss_fn(y_pred, y_train)\n",
    "    loss.backward()\n",
    "    optimizer.step()\n",
    "    return loss\n",
    "\n",
    "\n",
    "def test_model(model: nn.Module, x_test: Tensor, y_test: Tensor, loss_fn: nn.MSELoss) -> Tuple[Tensor, Tensor]:\n",
    "    model.eval()\n",
    "    with no_grad():\n",
    "        y_pred = model(x_test)\n",
    "        loss = loss_fn(y_pred, y_test)\n",
    "    return loss, y_pred.ravel()\n",
    "\n",
    "\n",
    "def run_model(model: nn.Module, data: Tuple[Tuple, NDArray], num_of_epochs: int) -> [List, List, Dict]:\n",
    "    lr = 0.1\n",
    "    momentum = 0.9\n",
    "    train_losses = []\n",
    "    test_losses = []\n",
    "    loss_function = nn.MSELoss()\n",
    "    optimizer = SGD(model.parameters(), lr=lr, momentum=momentum)\n",
    "    x, fx = vectorize_data(*data[0], data[1])\n",
    "    x_train, x_test, y_train, y_test = map(convert_to_tensor, train_test_split(x, fx, test_size=0.3, random_state=1))\n",
    "    pred = np.array([1])\n",
    "    for epoch in range(num_of_epochs):\n",
    "        train_loss = train_model(model, optimizer, loss_function, x_train, y_train)\n",
    "        test_loss, test_pred = test_model(model, x_test, y_test, loss_function)\n",
    "        train_losses.append(train_loss.item())\n",
    "        test_losses.append(test_loss.item())\n",
    "        pred = test_pred.detach().numpy()\n",
    "        if (epoch + 1) % 1000 == 0:\n",
    "            print('epoch:', epoch + 1, ',train_loss =', train_loss.item())\n",
    "            print('epoch:', epoch + 1, ',test_loss =', test_loss.item())\n",
    "        # validation usage\n",
    "    return train_losses, test_losses, dict(x_train=x_train, y_train=y_train, x_test=x_test, y_test=y_test, pred=pred)\n",
    "\n",
    "\n",
    "regression_model = RegressionModel(2, [20, 30])\n",
    "\n",
    "train_losses, test_losses, splited_data = run_model(model=regression_model, data=data, num_of_epochs=1000)\n",
    "\n"
   ]
  },
  {
   "cell_type": "markdown",
   "metadata": {},
   "source": [
    "**Visualizing the plots:**"
   ]
  },
  {
   "cell_type": "code",
   "execution_count": 5,
   "metadata": {},
   "outputs": [
    {
     "data": {
      "text/plain": "<Figure size 432x288 with 1 Axes>",
      "image/png": "[encoded data removed]"
     },
     "metadata": {
      "needs_background": "light"
     },
     "output_type": "display_data"
    },
    {
     "data": {
      "text/plain": "<Figure size 432x288 with 1 Axes>",
      "image/png": "[encoded data removed]"
     },
     "metadata": {
      "needs_background": "light"
     },
     "output_type": "display_data"
    }
   ],
   "source": [
    "def viz_epochs(num_of_epochs: int,\n",
    "               other_axis: list,\n",
    "               plot_test: bool,\n",
    "               y_lim: tuple\n",
    "               ):\n",
    "    epochs = list(range(num_of_epochs))\n",
    "    plt.plot(epochs, other_axis[0], 'orange', label='Train MSEs')\n",
    "    if plot_test:\n",
    "        plt.plot(epochs, other_axis[1], 'blue', label='Test MSEs', linestyle='--')\n",
    "    plt.ylim(list(y_lim))\n",
    "    plt.legend()\n",
    "    plt.show()\n",
    "\n",
    "\n",
    "viz_epochs(num_of_epochs=1000, other_axis=[train_losses, test_losses], plot_test=True, y_lim=(0, 0.25))\n",
    "\n",
    "viz_preds(data, splited_data['pred'], )\n"
   ]
  },
  {
   "cell_type": "markdown",
   "metadata": {},
   "source": [
    "### Build a new neural network and try overfitting your training set"
   ]
  },
  {
   "cell_type": "markdown",
   "metadata": {},
   "source": [
    "**Generate data:**"
   ]
  },
  {
   "cell_type": "code",
   "execution_count": null,
   "metadata": {},
   "outputs": [],
   "source": [
    "np.random.seed(random_num)\n",
    "x = np.linspace(-5, 5, 30)\n",
    "y = np.linspace(-5, 5, 30)\n",
    "xx, yy = np.meshgrid(x, y)\n",
    "z = np.sin(xx) * np.cos(yy) + 0.1 * np.random.rand(xx.shape[0], xx.shape[1])"
   ]
  },
  {
   "cell_type": "markdown",
   "metadata": {},
   "source": [
    "**Define the Model:**"
   ]
  },
  {
   "cell_type": "code",
   "execution_count": 6,
   "metadata": {},
   "outputs": [],
   "source": [
    "class OverfitModel(nn.Module):\n",
    "    def __init__(self, num_inputs: int, num_neurons: list):\n",
    "        super().__init__()\n",
    "        self.lin1 = nn.Linear(num_inputs, num_neurons[0])\n",
    "        self.lin2 = nn.Linear(num_neurons[0], num_neurons[1])\n",
    "        self.lin3 = nn.Linear(num_neurons[1], num_neurons[2])\n",
    "        self.lin4 = nn.Linear(num_neurons[2], 1)\n",
    "\n",
    "        self.relu = nn.RReLU()\n",
    "        self.tanh = nn.Tanh()\n",
    "\n",
    "    def forward(self, x):\n",
    "        x = self.relu(self.lin1(x))\n",
    "        x = self.tanh(self.lin2(x))\n",
    "        x = self.tanh(self.lin3(x))\n",
    "        x = self.tanh(self.lin4(x))\n",
    "        return x\n"
   ]
  },
  {
   "cell_type": "markdown",
   "metadata": {},
   "source": [
    "**Training and validation:**"
   ]
  },
  {
   "cell_type": "code",
   "execution_count": 7,
   "metadata": {},
   "outputs": [
    {
     "name": "stdout",
     "output_type": "stream",
     "text": [
      "epoch: 1000 ,train_loss = 0.003984169568866491\n",
      "epoch: 1000 ,test_loss = 0.006987329106777906\n",
      "epoch: 2000 ,train_loss = 0.002444083336740732\n",
      "epoch: 2000 ,test_loss = 0.004259689245373011\n",
      "epoch: 3000 ,train_loss = 0.001953383907675743\n",
      "epoch: 3000 ,test_loss = 0.003474364522844553\n",
      "epoch: 4000 ,train_loss = 0.0017235479317605495\n",
      "epoch: 4000 ,test_loss = 0.0030869985930621624\n",
      "epoch: 5000 ,train_loss = 0.0030182681512087584\n",
      "epoch: 5000 ,test_loss = 0.004554002080112696\n",
      "epoch: 6000 ,train_loss = 0.0014485744759440422\n",
      "epoch: 6000 ,test_loss = 0.00273812934756279\n",
      "epoch: 7000 ,train_loss = 0.0013263628352433443\n",
      "epoch: 7000 ,test_loss = 0.0026150615885853767\n",
      "epoch: 8000 ,train_loss = 0.0033231943380087614\n",
      "epoch: 8000 ,test_loss = 0.004435628652572632\n",
      "epoch: 9000 ,train_loss = 0.0012423543957993388\n",
      "epoch: 9000 ,test_loss = 0.0025541249196976423\n",
      "epoch: 10000 ,train_loss = 0.0011964209843426943\n",
      "epoch: 10000 ,test_loss = 0.002545921830460429\n",
      "epoch: 11000 ,train_loss = 0.001193493721075356\n",
      "epoch: 11000 ,test_loss = 0.0025609973818063736\n",
      "epoch: 12000 ,train_loss = 0.0011448630830273032\n",
      "epoch: 12000 ,test_loss = 0.002538735279813409\n",
      "epoch: 13000 ,train_loss = 0.0015050293877720833\n",
      "epoch: 13000 ,test_loss = 0.003033168613910675\n",
      "epoch: 14000 ,train_loss = 0.0013077331241220236\n",
      "epoch: 14000 ,test_loss = 0.0027874866500496864\n",
      "epoch: 15000 ,train_loss = 0.0015053509268909693\n",
      "epoch: 15000 ,test_loss = 0.0029592833016067743\n",
      "epoch: 16000 ,train_loss = 0.0015272025484591722\n",
      "epoch: 16000 ,test_loss = 0.0030306288972496986\n",
      "epoch: 17000 ,train_loss = 0.0011186253977939487\n",
      "epoch: 17000 ,test_loss = 0.0025960442144423723\n",
      "epoch: 18000 ,train_loss = 0.0010236767120659351\n",
      "epoch: 18000 ,test_loss = 0.0024818347301334143\n",
      "epoch: 19000 ,train_loss = 0.0010175665374845266\n",
      "epoch: 19000 ,test_loss = 0.002467710990458727\n",
      "epoch: 20000 ,train_loss = 0.0010111890733242035\n",
      "epoch: 20000 ,test_loss = 0.002476037945598364\n",
      "epoch: 21000 ,train_loss = 0.0009927286300808191\n",
      "epoch: 21000 ,test_loss = 0.002444657264277339\n",
      "epoch: 22000 ,train_loss = 0.0009676573681645095\n",
      "epoch: 22000 ,test_loss = 0.002431172411888838\n",
      "epoch: 23000 ,train_loss = 0.0011715148575603962\n",
      "epoch: 23000 ,test_loss = 0.0026814339216798544\n",
      "epoch: 24000 ,train_loss = 0.0009501458262093365\n",
      "epoch: 24000 ,test_loss = 0.0024184780195355415\n",
      "epoch: 25000 ,train_loss = 0.0009522635955363512\n",
      "epoch: 25000 ,test_loss = 0.002425809856504202\n",
      "epoch: 26000 ,train_loss = 0.0009684558026492596\n",
      "epoch: 26000 ,test_loss = 0.0024470598436892033\n",
      "epoch: 27000 ,train_loss = 0.0009362713899463415\n",
      "epoch: 27000 ,test_loss = 0.002420665929093957\n",
      "epoch: 28000 ,train_loss = 0.0009196142200380564\n",
      "epoch: 28000 ,test_loss = 0.0024092146195471287\n",
      "epoch: 29000 ,train_loss = 0.0013097476912662387\n",
      "epoch: 29000 ,test_loss = 0.0028207912109792233\n",
      "epoch: 30000 ,train_loss = 0.0009093758417293429\n",
      "epoch: 30000 ,test_loss = 0.0024198831524699926\n",
      "epoch: 31000 ,train_loss = 0.0008941232226788998\n",
      "epoch: 31000 ,test_loss = 0.0024016681127250195\n",
      "epoch: 32000 ,train_loss = 0.0010202908888459206\n",
      "epoch: 32000 ,test_loss = 0.0025493772700428963\n",
      "epoch: 33000 ,train_loss = 0.0008819786598905921\n",
      "epoch: 33000 ,test_loss = 0.002400178462266922\n",
      "epoch: 34000 ,train_loss = 0.0010621469700708985\n",
      "epoch: 34000 ,test_loss = 0.002571369521319866\n",
      "epoch: 35000 ,train_loss = 0.0008677993318997324\n",
      "epoch: 35000 ,test_loss = 0.0023927176371216774\n",
      "epoch: 36000 ,train_loss = 0.0010877175955101848\n",
      "epoch: 36000 ,test_loss = 0.002642293693497777\n",
      "epoch: 37000 ,train_loss = 0.0008793543092906475\n",
      "epoch: 37000 ,test_loss = 0.0023886472918093204\n",
      "epoch: 38000 ,train_loss = 0.0008512733620591462\n",
      "epoch: 38000 ,test_loss = 0.0023760730400681496\n",
      "epoch: 39000 ,train_loss = 0.0008643584442324936\n",
      "epoch: 39000 ,test_loss = 0.002403703983873129\n",
      "epoch: 40000 ,train_loss = 0.0008290994446724653\n",
      "epoch: 40000 ,test_loss = 0.0023718385491520166\n",
      "epoch: 41000 ,train_loss = 0.0008442504331469536\n",
      "epoch: 41000 ,test_loss = 0.0023897660430520773\n",
      "epoch: 42000 ,train_loss = 0.0008313669241033494\n",
      "epoch: 42000 ,test_loss = 0.002395894844084978\n",
      "epoch: 43000 ,train_loss = 0.0010973872849717736\n",
      "epoch: 43000 ,test_loss = 0.0026686706114560366\n",
      "epoch: 44000 ,train_loss = 0.0008095481898635626\n",
      "epoch: 44000 ,test_loss = 0.0023862067610025406\n",
      "epoch: 45000 ,train_loss = 0.0008736320887692273\n",
      "epoch: 45000 ,test_loss = 0.002455182373523712\n",
      "epoch: 46000 ,train_loss = 0.0009275426273234189\n",
      "epoch: 46000 ,test_loss = 0.0025596944615244865\n",
      "epoch: 47000 ,train_loss = 0.0010483873775228858\n",
      "epoch: 47000 ,test_loss = 0.0025916367303580046\n",
      "epoch: 48000 ,train_loss = 0.0010388747323304415\n",
      "epoch: 48000 ,test_loss = 0.0025975434109568596\n",
      "epoch: 49000 ,train_loss = 0.001022558892145753\n",
      "epoch: 49000 ,test_loss = 0.002590420190244913\n",
      "epoch: 50000 ,train_loss = 0.0007804858032613993\n",
      "epoch: 50000 ,test_loss = 0.0024193311110138893\n",
      "epoch: 51000 ,train_loss = 0.0012044255854561925\n",
      "epoch: 51000 ,test_loss = 0.0029099632520228624\n",
      "epoch: 52000 ,train_loss = 0.0007997096399776638\n",
      "epoch: 52000 ,test_loss = 0.0024252638686448336\n",
      "epoch: 53000 ,train_loss = 0.0007648017490282655\n",
      "epoch: 53000 ,test_loss = 0.0024146626237779856\n",
      "epoch: 54000 ,train_loss = 0.0008261510520242155\n",
      "epoch: 54000 ,test_loss = 0.0025292029604315758\n",
      "epoch: 55000 ,train_loss = 0.0007989987498149276\n",
      "epoch: 55000 ,test_loss = 0.0024374639615416527\n",
      "epoch: 56000 ,train_loss = 0.0007489713607355952\n",
      "epoch: 56000 ,test_loss = 0.002418708521872759\n",
      "epoch: 57000 ,train_loss = 0.0007441345951519907\n",
      "epoch: 57000 ,test_loss = 0.0024397727102041245\n",
      "epoch: 58000 ,train_loss = 0.0008682047482579947\n",
      "epoch: 58000 ,test_loss = 0.0025290658231824636\n",
      "epoch: 59000 ,train_loss = 0.0008438570075668395\n",
      "epoch: 59000 ,test_loss = 0.0025572841987013817\n",
      "epoch: 60000 ,train_loss = 0.0007255313685163856\n",
      "epoch: 60000 ,test_loss = 0.0024345102719962597\n",
      "epoch: 61000 ,train_loss = 0.0007244086591526866\n",
      "epoch: 61000 ,test_loss = 0.002426180290058255\n",
      "epoch: 62000 ,train_loss = 0.0007255857926793396\n",
      "epoch: 62000 ,test_loss = 0.0024585630744695663\n",
      "epoch: 63000 ,train_loss = 0.0007486664690077305\n",
      "epoch: 63000 ,test_loss = 0.002449517138302326\n",
      "epoch: 64000 ,train_loss = 0.0008272186387330294\n",
      "epoch: 64000 ,test_loss = 0.002622699597850442\n",
      "epoch: 65000 ,train_loss = 0.0009921753080561757\n",
      "epoch: 65000 ,test_loss = 0.002662921091541648\n",
      "epoch: 66000 ,train_loss = 0.0009832041105255485\n",
      "epoch: 66000 ,test_loss = 0.0028322692960500717\n",
      "epoch: 67000 ,train_loss = 0.0008097065147012472\n",
      "epoch: 67000 ,test_loss = 0.0025204785633832216\n",
      "epoch: 68000 ,train_loss = 0.0007228016620501876\n",
      "epoch: 68000 ,test_loss = 0.002516581444069743\n",
      "epoch: 69000 ,train_loss = 0.0006932118558324873\n",
      "epoch: 69000 ,test_loss = 0.002450290834531188\n",
      "epoch: 70000 ,train_loss = 0.000685469713062048\n",
      "epoch: 70000 ,test_loss = 0.0024681740906089544\n",
      "epoch: 71000 ,train_loss = 0.0007015781011432409\n",
      "epoch: 71000 ,test_loss = 0.002494893269613385\n",
      "epoch: 72000 ,train_loss = 0.0008135905372910202\n",
      "epoch: 72000 ,test_loss = 0.0025504152290523052\n",
      "epoch: 73000 ,train_loss = 0.00067480793222785\n",
      "epoch: 73000 ,test_loss = 0.0024750942829996347\n",
      "epoch: 74000 ,train_loss = 0.0010283010778948665\n",
      "epoch: 74000 ,test_loss = 0.0029110705945640802\n",
      "epoch: 75000 ,train_loss = 0.0006706395070068538\n",
      "epoch: 75000 ,test_loss = 0.0024633347056806087\n",
      "epoch: 76000 ,train_loss = 0.0009744733106344938\n",
      "epoch: 76000 ,test_loss = 0.0026833212468773127\n",
      "epoch: 77000 ,train_loss = 0.0006616366445086896\n",
      "epoch: 77000 ,test_loss = 0.002477851929143071\n",
      "epoch: 78000 ,train_loss = 0.0007208168390206993\n",
      "epoch: 78000 ,test_loss = 0.0025845319032669067\n",
      "epoch: 79000 ,train_loss = 0.0006810466875322163\n",
      "epoch: 79000 ,test_loss = 0.0025105164386332035\n",
      "epoch: 80000 ,train_loss = 0.0006534003769047558\n",
      "epoch: 80000 ,test_loss = 0.002465510508045554\n",
      "epoch: 81000 ,train_loss = 0.0006637249025516212\n",
      "epoch: 81000 ,test_loss = 0.002465624362230301\n",
      "epoch: 82000 ,train_loss = 0.0008119902922771871\n",
      "epoch: 82000 ,test_loss = 0.0025800487492233515\n",
      "epoch: 83000 ,train_loss = 0.0009402063442394137\n",
      "epoch: 83000 ,test_loss = 0.00265836832113564\n",
      "epoch: 84000 ,train_loss = 0.0006477884016931057\n",
      "epoch: 84000 ,test_loss = 0.002459706040099263\n",
      "epoch: 85000 ,train_loss = 0.0006399809499271214\n",
      "epoch: 85000 ,test_loss = 0.0024750714655965567\n",
      "epoch: 86000 ,train_loss = 0.0006389482878148556\n",
      "epoch: 86000 ,test_loss = 0.0024786738213151693\n",
      "epoch: 87000 ,train_loss = 0.0006388424662873149\n",
      "epoch: 87000 ,test_loss = 0.0024836489465087652\n",
      "epoch: 88000 ,train_loss = 0.0006371610797941685\n",
      "epoch: 88000 ,test_loss = 0.0024851697962731123\n",
      "epoch: 89000 ,train_loss = 0.0006361543200910091\n",
      "epoch: 89000 ,test_loss = 0.0024874566588550806\n",
      "epoch: 90000 ,train_loss = 0.0006310396711342037\n",
      "epoch: 90000 ,test_loss = 0.0024806447327136993\n",
      "epoch: 91000 ,train_loss = 0.0006289283628575504\n",
      "epoch: 91000 ,test_loss = 0.0024804009590297937\n",
      "epoch: 92000 ,train_loss = 0.0006260648369789124\n",
      "epoch: 92000 ,test_loss = 0.0024776142090559006\n",
      "epoch: 93000 ,train_loss = 0.0006191777065396309\n",
      "epoch: 93000 ,test_loss = 0.0024620401673018932\n",
      "epoch: 94000 ,train_loss = 0.0006173622678034008\n",
      "epoch: 94000 ,test_loss = 0.002457250142470002\n",
      "epoch: 95000 ,train_loss = 0.0006685287225991488\n",
      "epoch: 95000 ,test_loss = 0.002469959668815136\n",
      "epoch: 96000 ,train_loss = 0.0007069740677252412\n",
      "epoch: 96000 ,test_loss = 0.0025102857034653425\n",
      "epoch: 97000 ,train_loss = 0.0006226059049367905\n",
      "epoch: 97000 ,test_loss = 0.0024844633881002665\n",
      "epoch: 98000 ,train_loss = 0.0006087850197218359\n",
      "epoch: 98000 ,test_loss = 0.002457638969644904\n",
      "epoch: 99000 ,train_loss = 0.0006059800507500768\n",
      "epoch: 99000 ,test_loss = 0.002448681276291609\n",
      "epoch: 100000 ,train_loss = 0.000869035895448178\n",
      "epoch: 100000 ,test_loss = 0.0026231168303638697\n"
     ]
    }
   ],
   "source": [
    "epochs = 100000\n",
    "overfit_model = OverfitModel(2, [30, 50, 70])\n",
    "\n",
    "train_losses, test_losses, splited_data = run_model(model=regression_model, data=data, num_of_epochs=epochs)\n"
   ]
  },
  {
   "cell_type": "markdown",
   "metadata": {},
   "source": [
    "**Visualizing the plots:**"
   ]
  },
  {
   "cell_type": "code",
   "execution_count": 8,
   "metadata": {},
   "outputs": [
    {
     "data": {
      "text/plain": "<Figure size 432x288 with 1 Axes>",
      "image/png": "[encoded data removed]"
     },
     "metadata": {
      "needs_background": "light"
     },
     "output_type": "display_data"
    },
    {
     "data": {
      "text/plain": "<Figure size 432x288 with 1 Axes>",
      "image/png": "[encoded data removed]"
     },
     "metadata": {
      "needs_background": "light"
     },
     "output_type": "display_data"
    }
   ],
   "source": [
    "viz_epochs(num_of_epochs=epochs, other_axis=[train_losses, test_losses], plot_test=True, y_lim= (0.0, 0.004))\n",
    "\n",
    "viz_preds(data, splited_data['pred'], )\n"
   ]
  },
  {
   "cell_type": "markdown",
   "metadata": {},
   "source": [
    "5. Briefly explain graph's results."
   ]
  },
  {
   "cell_type": "markdown",
   "metadata": {},
   "source": [
    "6. How does your metric value differs between the training data and the test data and why?\n"
   ]
  }
 ],
 "metadata": {
  "kernelspec": {
   "display_name": "Python 3",
   "language": "python",
   "name": "python3"
  },
  "language_info": {
   "codemirror_mode": {
    "name": "ipython",
    "version": 3
   },
   "file_extension": ".py",
   "mimetype": "text/x-python",
   "name": "python",
   "nbconvert_exporter": "python",
   "pygments_lexer": "ipython3",
   "version": "3.8.5"
  }
 },
 "nbformat": 4,
 "nbformat_minor": 4
}